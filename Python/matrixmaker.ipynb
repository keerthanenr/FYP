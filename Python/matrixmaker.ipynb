{
 "cells": [
  {
   "cell_type": "code",
   "execution_count": 105,
   "metadata": {},
   "outputs": [],
   "source": [
    "import pandas as pd\n",
    "import numpy as np\n",
    "from sklearn import linear_model\n",
    "import matplotlib.pyplot as plt"
   ]
  },
  {
   "cell_type": "code",
   "execution_count": 106,
   "metadata": {},
   "outputs": [],
   "source": [
    "from sklearn.preprocessing import PolynomialFeatures\n",
    "from sklearn.linear_model import LinearRegression\n",
    "from sklearn.metrics import accuracy_score\n",
    "from sklearn.metrics import r2_score"
   ]
  },
  {
   "cell_type": "code",
   "execution_count": 107,
   "metadata": {},
   "outputs": [],
   "source": [
    "# name tester file and produce array to be used in linear regression for constrained\n",
    "# df=pd.read_csv(\"DeltaF1large.csv\")\n",
    "nameoftester=\"Deltaf2smalltest.csv\"\n",
    "nameoffile=\"Deltaf2smalltest1.csv\"\n",
    "test=pd.read_csv(nameoftester)"
   ]
  },
  {
   "cell_type": "code",
   "execution_count": 108,
   "metadata": {},
   "outputs": [],
   "source": [
    "test1=np.array(test)\n",
    "# test1\n",
    "test2=pd.DataFrame(test1)\n",
    "# test2"
   ]
  },
  {
   "cell_type": "code",
   "execution_count": 109,
   "metadata": {},
   "outputs": [
    {
     "data": {
      "text/plain": [
       "array([[1.00000e+00, 6.50000e+02, 1.25000e+03, ..., 1.56250e+06,\n",
       "        2.81250e+06, 5.06250e+06],\n",
       "       [1.00000e+00, 2.90000e+03, 1.00000e+03, ..., 1.00000e+06,\n",
       "        1.00000e+06, 1.00000e+06],\n",
       "       [1.00000e+00, 1.60000e+03, 2.25000e+03, ..., 5.06250e+06,\n",
       "        2.81250e+06, 1.56250e+06],\n",
       "       ...,\n",
       "       [1.00000e+00, 1.15000e+03, 3.75000e+03, ..., 1.40625e+07,\n",
       "        8.43750e+06, 5.06250e+06],\n",
       "       [1.00000e+00, 1.15000e+03, 1.25000e+03, ..., 1.56250e+06,\n",
       "        4.68750e+06, 1.40625e+07],\n",
       "       [1.00000e+00, 2.00000e+02, 5.00000e+03, ..., 2.50000e+07,\n",
       "        2.37500e+07, 2.25625e+07]])"
      ]
     },
     "execution_count": 109,
     "metadata": {},
     "output_type": "execute_result"
    }
   ],
   "source": [
    "poly_reg=PolynomialFeatures(degree=2)\n",
    "poly_testvar=poly_reg.fit_transform(test1)\n",
    "\n",
    "poly_testvar"
   ]
  },
  {
   "cell_type": "code",
   "execution_count": null,
   "metadata": {},
   "outputs": [],
   "source": []
  },
  {
   "cell_type": "code",
   "execution_count": 110,
   "metadata": {},
   "outputs": [],
   "source": [
    "# saves file in csv format\n",
    "np.savetxt(nameoffile, poly_testvar, delimiter=\",\")"
   ]
  },
  {
   "cell_type": "code",
   "execution_count": null,
   "metadata": {},
   "outputs": [],
   "source": []
  },
  {
   "cell_type": "code",
   "execution_count": null,
   "metadata": {},
   "outputs": [],
   "source": []
  },
  {
   "cell_type": "code",
   "execution_count": null,
   "metadata": {},
   "outputs": [],
   "source": []
  },
  {
   "cell_type": "code",
   "execution_count": null,
   "metadata": {},
   "outputs": [],
   "source": []
  }
 ],
 "metadata": {
  "kernelspec": {
   "display_name": "Python 3",
   "language": "python",
   "name": "python3"
  },
  "language_info": {
   "codemirror_mode": {
    "name": "ipython",
    "version": 3
   },
   "file_extension": ".py",
   "mimetype": "text/x-python",
   "name": "python",
   "nbconvert_exporter": "python",
   "pygments_lexer": "ipython3",
   "version": "3.7.1"
  }
 },
 "nbformat": 4,
 "nbformat_minor": 2
}
